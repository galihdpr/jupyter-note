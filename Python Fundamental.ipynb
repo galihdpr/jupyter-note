{
 "cells": [
  {
   "cell_type": "markdown",
   "id": "external-retreat",
   "metadata": {},
   "source": [
    "# Praktik Dasar Python\n",
    "\n",
    "Di bawah ini, kita akan langsung melalukan beberapa praktik untuk mendapat konsep inti dalam penerapan python dasar"
   ]
  },
  {
   "cell_type": "code",
   "execution_count": 4,
   "id": "measured-uruguay",
   "metadata": {},
   "outputs": [
    {
     "name": "stdout",
     "output_type": "stream",
     "text": [
      "test drive python\n",
      "12391093039039\n",
      "3332.3442\n",
      "[1, 2, 3, 4, 5, 5, 1, 2]\n",
      "(1, 2, 3, 'test', [140, 312])\n",
      "{'Nama': 'Galih', 'usia': 20, 'alamat': 'Ketapang'}\n",
      "{1, 4, 5, 6, 23}\n"
     ]
    }
   ],
   "source": [
    "var_string = \"test drive python\" #test data sring\n",
    "var_int = 12391093039039 # test data integer\n",
    "var_float = 3332.3442 # test data float\n",
    "var_list = [1,2,3,4,5,5,1,2] # test list, ordered, changeable, dapat berisi data duplikat\n",
    "var_tuple = (1,2,3, \"test\", [140,312]) # test tuple, ordered, unchangeable, dapat berisi data duplikat\n",
    "var_dictionary = {\"Nama\":\"Galih\", \"usia\":20,\"alamat\":\"Ketapang\"} # test dictionary\n",
    "var_set = {1,23,4,5,6,1} # tes set, unordered, unchangeable, tidak ada data duplikat\n",
    "\n",
    "\n",
    "print(var_string)\n",
    "print(var_int)\n",
    "print(var_float)\n",
    "print(var_list)\n",
    "print(var_tuple)\n",
    "print(var_dictionary)\n",
    "print(var_set)"
   ]
  },
  {
   "cell_type": "markdown",
   "id": "renewable-mediterranean",
   "metadata": {},
   "source": [
    "Perhatikan bagaimana dengan var_set. Kita memasukkan nilai 1 dua kali; di awal dan belakang, namun saat cetak, nilai 1 di akhir menghilang, ini karena set didesain untuk menghilangkan duplikasi. "
   ]
  },
  {
   "cell_type": "markdown",
   "id": "unlike-universal",
   "metadata": {},
   "source": [
    "## Operator\n",
    "\n",
    "sama seperti R dan bahasa pemrograman lain, python memiliki banyak operator untuk melakukan operasi matematika \n",
    "\n",
    "beberapa daftar operator : \n",
    "1. Operator arimatik :\n",
    "        - + penjumlahan\n",
    "        - '-' pengurangan\n",
    "        - * pengalian\n",
    "        - / pembagian\n",
    "        - % modulus; menampilkan sisa pembagian\n",
    "        - ** eksponensial / pangkat\n",
    "        - // floor division\n",
    "2. Operator Assignment:\n",
    "        - = ; memberi nilai pada variabel\n",
    "        - +=;  shortcut untuk operasi x = x + val; contoh : x +=3 --> x = x + 3; nilai x adalah nilai x sendiri ditambah 3\n",
    "        - -=; sama seprti +=, namun nilai x adalah x dikurangi value pendamping\n",
    "        - *=\n",
    "        - /=\n",
    "        - %=\n",
    "        - ** = \n",
    "        - //=\n",
    "3. Operator Komparasi:\n",
    "        - ==; equal\n",
    "        - !=; not equal\n",
    "        - <; less than\n",
    "        - >; more than\n",
    "        - >=; equal or greater than\n",
    "        - <=; equal or less than\n",
    "4. Operator logika :\n",
    "        - and\n",
    "        - or\n",
    "        - not --> negasi\n",
    "5. Operator identity :\n",
    "        - is\n",
    "        - is not\n",
    "6. Membership :\n",
    "        - in\n",
    "        - not in\n",
    "        \n",
    "    "
   ]
  },
  {
   "cell_type": "markdown",
   "id": "wooden-invasion",
   "metadata": {},
   "source": [
    "## If... elif...else\n",
    "\n",
    "conditional programming adalah fitur di hampir seluruh bahasa pemrograman. Ada beberapa yang perlu dicatat untuk meningkatkan logika di sini. "
   ]
  },
  {
   "cell_type": "code",
   "execution_count": 13,
   "id": "bottom-hartford",
   "metadata": {},
   "outputs": [
    {
     "name": "stdout",
     "output_type": "stream",
     "text": [
      "x lebih kecil dari 5\n",
      "a lebih besar dari 5\n",
      "b lebih besar dari 5\n",
      "b sama dengan 10\n"
     ]
    }
   ],
   "source": [
    "# Ini adalah contoh dasar penggunaan if\n",
    "\n",
    "x = 4\n",
    "if(x > 5):\n",
    "    print(\"x lebih dari 5\")\n",
    "\n",
    "# Kode di atas tidak menghasilkan apa-apa karena dalam python, else function kosong dianggap BLANK. Berbeda dengan R, \n",
    "# yang akan menghasilkan error, karena mewajibkan adanya else\n",
    "# sekarang kita tulis kode pelengkapnya\n",
    "\n",
    "if(x > 5):\n",
    "    print(\"x lebih besar dari 5\")\n",
    "else:\n",
    "    print(\"x lebih kecil dari 5\")\n",
    "    \n",
    "# Ini adalah contoh sederhana bentuk if..else...\n",
    "# Sekarang kita memperkenalkan elif :....\n",
    "# elif: adalah fungsi di mana saat logika kondisional if(...): FALSE, maka elif(...): akan diuji. Jumlah elif yang kita tulis\n",
    "# bisa sesuai kehendak kita untuk program\n",
    "\n",
    "a = 10\n",
    "\n",
    "if(a == 5):\n",
    "    print(\"a bernilai 5\")\n",
    "elif(a > 5):\n",
    "    print(\"a lebih besar dari 5\")\n",
    "else:\n",
    "    print(\"a lebih kecil dari 5\")\n",
    "    \n",
    "# lihat bagaimana dalam kode ini, kita memprogram 2 kali pengujian. Pertama dengan a==5, saat logika ini FALSE, maka \n",
    "# python akan melanjutkan dengan menguji logika kedua yang berada dalam elif( a > 5)\n",
    "\n",
    "\n",
    "# Nested if function\n",
    "# Sekarang kita akan bicara bentuk lain dari fungsi kondisional if yang bernama 'nested  if'. Ide dari fungsi ini adalah\n",
    "# memampukan kita untuk menulis multi test pada program.\n",
    "# Apa bedanya dengan elif? \n",
    "# Jelas berbeda. elif adalah pengujian logika kedua saat logika pendahulunya FALSE. Sedangkan nested if adalah pengujian\n",
    "# logika kedua saat logika pendahulunya TRUE. Bisa dibilang, nested if adalah pengujian lanjut dan detail \n",
    "# nested if ditulis dengan 'if' yang sama, hanya idensasinya berbeda.\n",
    "\n",
    "# contoh nested if\n",
    "\n",
    "b = 10\n",
    "if(b == 5):\n",
    "    print(\"b sama dengan 10\")\n",
    "elif(b > 5):\n",
    "    print(\"b lebih besar dari 5\")\n",
    "    if(b%5==0): # ini adalah nested if, dijalankan saat logika pendahuluanya elif(b > 5) bernilai TRUE\n",
    "        print(\"b sama dengan 10\")\n",
    "    else:\n",
    "        print(\"b di antara 6,7,8, dan 9\")\n",
    "else:\n",
    "    print(\"b lebih kecil dari 5\")"
   ]
  },
  {
   "cell_type": "markdown",
   "id": "liable-anniversary",
   "metadata": {},
   "source": [
    "## While dan For Loop\n",
    "\n",
    "Loop juga merupakan fitur utama dalam tiap bahasa pemrograman, biasanya loop disebut juga sebagai control structure. Dalam python, loop dibagi 2 :\n",
    "1. for loop; loop yang telah menentukan batas awal dan akhir looping, atau sudah punya elemen yang terdefinisi\n",
    "2. while loop; loop yang hanya mengikutkan kondisi. Selama kondisi masih TRUE, loop akan terus berlanjut."
   ]
  },
  {
   "cell_type": "code",
   "execution_count": 29,
   "id": "spoken-football",
   "metadata": {},
   "outputs": [
    {
     "name": "stdout",
     "output_type": "stream",
     "text": [
      "1\n",
      "2\n",
      "3\n",
      "4\n",
      "5\n",
      "6\n",
      "7\n",
      "8\n",
      "9\n"
     ]
    }
   ],
   "source": [
    "# contoh for loop\n",
    "for i in range(1,10):\n",
    "    print(i)\n",
    "# ini adalah struktur syntax python untuk for loop\n",
    "# for \"range-variabel\":\n",
    "    # code block\n",
    "    \n",
    "# Perhatikan bagaimana yang dicetak hanya 1-9. Ini bukan error, tapi karena memang fungsi range hanya melibatkan n-1 dari \n",
    "# range yang ada"
   ]
  },
  {
   "cell_type": "code",
   "execution_count": 30,
   "id": "nasty-ceiling",
   "metadata": {},
   "outputs": [
    {
     "name": "stdout",
     "output_type": "stream",
     "text": [
      "1\n",
      "2\n",
      "3\n",
      "4\n",
      "5\n",
      "6\n",
      "7\n",
      "8\n",
      "9\n"
     ]
    }
   ],
   "source": [
    "# contoh while loop\n",
    "rag = 1 # Ini kondisi inisial loop\n",
    "while(rag < 10): # ini adalah logika kondisi looping\n",
    "    print(rag) # perintah saat loop berjalan\n",
    "    rag += 1 # dan pastikan ini selalu ada di akhir while loop, karena jika tidak, loop tidak akan berhenti"
   ]
  },
  {
   "cell_type": "markdown",
   "id": "veterinary-liverpool",
   "metadata": {},
   "source": [
    "## Fungsi\n",
    "\n",
    "Python, sekali lagi, sama seperti bahasa pemrograman lain, bisa membuat fungsi. Guna dari fungsi ini adalah membentuk seperangkat kode dan prosedur yang bisa didaur ulang, tanpa perlu menuliskannya berulang kali.\n",
    "Revisit pada R, kita menulis fungsi dengan cara seperti ini :"
   ]
  },
  {
   "cell_type": "code",
   "execution_count": null,
   "id": "directed-words",
   "metadata": {},
   "outputs": [],
   "source": [
    "# Contoh fungsi R:\n",
    "\n",
    "# function_name <- function(parameter){\n",
    "    #----code block----\n",
    "#}"
   ]
  },
  {
   "cell_type": "markdown",
   "id": "front-seafood",
   "metadata": {},
   "source": [
    "Untuk python sendiri, sedikit lebih ringkas. semua fungsi dalam python di inisiasi dengan 'def'.\n",
    "Struktur penulisan fungsi python :"
   ]
  },
  {
   "cell_type": "code",
   "execution_count": null,
   "id": "particular-mills",
   "metadata": {},
   "outputs": [],
   "source": [
    "# Contoh fungsi python :\n",
    "\n",
    "# def function_name(parameter):\n",
    "        #---code block----"
   ]
  },
  {
   "cell_type": "code",
   "execution_count": 48,
   "id": "cleared-crawford",
   "metadata": {},
   "outputs": [
    {
     "name": "stdout",
     "output_type": "stream",
     "text": [
      "Luas segitiga berikut adalah : 12\n"
     ]
    }
   ],
   "source": [
    "# contoh function\n",
    "# Kita membuat fungsi luas segitiga : (alas * tinggi)/2\n",
    "def luas_segitiga(alas,tinggi):\n",
    "    luas = (alas * tinggi)/2\n",
    "    return(luas) #return adalah perintah untuk mengembaiikan hasil dari fungsi, sehingga bisa digunakan dalam perintah lain \n",
    "    \n",
    "print(\"Luas segitiga berikut adalah : %d\" %luas_segitiga(4,6))"
   ]
  },
  {
   "cell_type": "code",
   "execution_count": 49,
   "id": "crude-daniel",
   "metadata": {},
   "outputs": [
    {
     "data": {
      "image/png": "[encoded data removed]",
      "text/plain": [
       "<Figure size 432x288 with 1 Axes>"
      ]
     },
     "metadata": {
      "needs_background": "light"
     },
     "output_type": "display_data"
    }
   ],
   "source": [
    "# Contoh penggunaan (numpy, pandas, dan matplotlib)\n",
    "\n",
    "import pandas as pd\n",
    "import numpy as np\n",
    "import matplotlib.pyplot as plt\n",
    "\n",
    "table = pd.read_csv(\"https://storage.googleapis.com/dqlab-dataset/penduduk_gender_head.csv\")\n",
    "\n",
    "table.head()\n",
    "x_label = table['NAMA KELURAHAN']\n",
    "plt.bar(x=np.arange(len(x_label)),height=table['LAKI-LAKI WNI'])\n",
    "plt.show()"
   ]
  },
  {
   "cell_type": "code",
   "execution_count": 50,
   "id": "pointed-cartoon",
   "metadata": {},
   "outputs": [
    {
     "data": {
      "image/png": "[encoded data removed]",
      "text/plain": [
       "<Figure size 432x288 with 1 Axes>"
      ]
     },
     "metadata": {
      "needs_background": "light"
     },
     "output_type": "display_data"
    }
   ],
   "source": [
    "# Pada plot di atas, jika kita ingin menambahkan 'nama kelurahan' sebagai label AXIS - X\n",
    "\n",
    "table = pd.read_csv(\"https://storage.googleapis.com/dqlab-dataset/penduduk_gender_head.csv\")\n",
    "\n",
    "table.head()\n",
    "x_label = table['NAMA KELURAHAN']\n",
    "plt.bar(x=np.arange(len(x_label)),height=table['LAKI-LAKI WNI'])\n",
    "plt.xticks(np.arange(len(x_label)),table['NAMA KELURAHAN'],rotation=30)\n",
    "plt.show()"
   ]
  },
  {
   "cell_type": "code",
   "execution_count": 53,
   "id": "after-disclaimer",
   "metadata": {},
   "outputs": [
    {
     "data": {
      "image/png": "[encoded data removed]",
      "text/plain": [
       "<Figure size 432x288 with 1 Axes>"
      ]
     },
     "metadata": {
      "needs_background": "light"
     },
     "output_type": "display_data"
    }
   ],
   "source": [
    "# Jika ingin memberi judul tambahkan plt.title()\n",
    "table = pd.read_csv(\"https://storage.googleapis.com/dqlab-dataset/penduduk_gender_head.csv\")\n",
    "\n",
    "table.head()\n",
    "x_label = table['NAMA KELURAHAN']\n",
    "plt.bar(x=np.arange(len(x_label)),height=table['LAKI-LAKI WNI'])\n",
    "plt.xticks(np.arange(len(x_label)),table['NAMA KELURAHAN'],rotation=30)\n",
    "plt.xlabel('Kelurahan di Jakarta Pusat')\n",
    "plt.ylabel('Jumlah Penduduk Laki - Laki')\n",
    "plt.title('Persebaran Jumlah Penduduk Laki- Laki di Jakarta Pusat')\n",
    "plt.show()"
   ]
  },
  {
   "cell_type": "code",
   "execution_count": 55,
   "id": "warming-seattle",
   "metadata": {},
   "outputs": [
    {
     "data": {
      "text/plain": [
       "0     PROVINSI DKI JAKARTA\n",
       "1     PROVINSI DKI JAKARTA\n",
       "2     PROVINSI DKI JAKARTA\n",
       "3     PROVINSI DKI JAKARTA\n",
       "4     PROVINSI DKI JAKARTA\n",
       "5     PROVINSI DKI JAKARTA\n",
       "6     PROVINSI DKI JAKARTA\n",
       "7     PROVINSI DKI JAKARTA\n",
       "8     PROVINSI DKI JAKARTA\n",
       "9     PROVINSI DKI JAKARTA\n",
       "10    PROVINSI DKI JAKARTA\n",
       "11    PROVINSI DKI JAKARTA\n",
       "12    PROVINSI DKI JAKARTA\n",
       "13    PROVINSI DKI JAKARTA\n",
       "14    PROVINSI DKI JAKARTA\n",
       "15    PROVINSI DKI JAKARTA\n",
       "16    PROVINSI DKI JAKARTA\n",
       "17    PROVINSI DKI JAKARTA\n",
       "18    PROVINSI DKI JAKARTA\n",
       "19    PROVINSI DKI JAKARTA\n",
       "20    PROVINSI DKI JAKARTA\n",
       "21    PROVINSI DKI JAKARTA\n",
       "22    PROVINSI DKI JAKARTA\n",
       "23    PROVINSI DKI JAKARTA\n",
       "24    PROVINSI DKI JAKARTA\n",
       "25    PROVINSI DKI JAKARTA\n",
       "26    PROVINSI DKI JAKARTA\n",
       "27    PROVINSI DKI JAKARTA\n",
       "28    PROVINSI DKI JAKARTA\n",
       "29    PROVINSI DKI JAKARTA\n",
       "30    PROVINSI DKI JAKARTA\n",
       "31    PROVINSI DKI JAKARTA\n",
       "32    PROVINSI DKI JAKARTA\n",
       "33    PROVINSI DKI JAKARTA\n",
       "34    PROVINSI DKI JAKARTA\n",
       "35    PROVINSI DKI JAKARTA\n",
       "36    PROVINSI DKI JAKARTA\n",
       "37    PROVINSI DKI JAKARTA\n",
       "38    PROVINSI DKI JAKARTA\n",
       "39    PROVINSI DKI JAKARTA\n",
       "40    PROVINSI DKI JAKARTA\n",
       "41    PROVINSI DKI JAKARTA\n",
       "42    PROVINSI DKI JAKARTA\n",
       "43    PROVINSI DKI JAKARTA\n",
       "Name: NAMA PROVINSI, dtype: object"
      ]
     },
     "execution_count": 55,
     "metadata": {},
     "output_type": "execute_result"
    }
   ],
   "source": [
    "table['NAMA PROVINSI']"
   ]
  }
 ],
 "metadata": {
  "kernelspec": {
   "display_name": "Python 3",
   "language": "python",
   "name": "python3"
  },
  "language_info": {
   "codemirror_mode": {
    "name": "ipython",
    "version": 3
   },
   "file_extension": ".py",
   "mimetype": "text/x-python",
   "name": "python",
   "nbconvert_exporter": "python",
   "pygments_lexer": "ipython3",
   "version": "3.9.0"
  }
 },
 "nbformat": 4,
 "nbformat_minor": 5
}
