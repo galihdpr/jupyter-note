{
 "cells": [
  {
   "cell_type": "markdown",
   "id": "exempt-blair",
   "metadata": {},
   "source": [
    "# Introduction of Data Science with Python\n",
    "\n",
    "python adalah bahasa pemrogaman OOP yang ditujukan untuk general-purpose serta termasuk dalam high level programming. Python \n",
    "ditulis oleh Guido Van Rossum tahun 1991, dengan lisensi *open-source*. Karena 3 faktor ini lah (high level, general-purpose, dan open source, kemudian banyak pengguna membuat library python yang ditujukan khusus untuk data science.\n",
    "\n",
    "Beberapa library python yang menjadi tool andalan para data scientist adalah :\n",
    "- Numpy (Numerical Python) : library yang memudahkan untuk pendefinisian array (baik 1d, 2d, ataupun 3d) untuk komputasi aljabar linear\n",
    "- Scipy (Scientific Python) : Library eksten dari Numpy untuk keperluan komputasi saintifik seperti aljabar linear, integrasi, differensial, Transformasi Fourier, Optimasi, polarisasi,statistik, dsg.\n",
    "- Pandas : library untuk pengolahan data tabular (seperti yg bersumber dari SPSS, Excel,Stata,dsg.\n",
    "- Matplotlib : library untuk visualisasi data baik secara 2D maupun 3d\n",
    "- Scikit-learn : library untuk membangun model prediktif dengan menggunakan machine learning\n",
    "- Seaborn : library yang dibangun di atas matplotlib untuk membangun visual grafis lebih elegan, dan terintegrasi dengan panda."
   ]
  },
  {
   "cell_type": "code",
   "execution_count": 6,
   "id": "parallel-sucking",
   "metadata": {},
   "outputs": [
    {
     "name": "stdout",
     "output_type": "stream",
     "text": [
      "Hello World\n",
      "Introduction of Python for Data Science\n"
     ]
    }
   ],
   "source": [
    "# Struktur python terdiri dari statement, variabel, literal, operator\n",
    "\n",
    "# Contoh kode python\n",
    "print(\"Hello World\")\n",
    "print(\"Introduction of Python for Data Science\")"
   ]
  },
  {
   "cell_type": "markdown",
   "id": "neural-genome",
   "metadata": {},
   "source": [
    "### Aturan Penulisan Variabel dalam Python\n",
    "\n",
    "Dalam python, variabel sebaiknya ditulis dengan mengikuti aturan berikut :\n",
    "\n",
    "    1. Dimulai dengan karakter huruf a-z, A-Z, atau underscore(_)\n",
    "    2. Karakter variabel hanya boleh berisi huruf, angka, dan underscore\n",
    "    3. Variabel bersifat case-sensitive"
   ]
  },
  {
   "cell_type": "markdown",
   "id": "persistent-future",
   "metadata": {},
   "source": [
    "### Comment di Python\n",
    "\n",
    "Dalam koding, comment adalah fitur yang sangat membantu developer untuk menulis dan menjelaskan kode program agar bisa dimengerti oleh developer atau user lain. \n",
    "Untuk menulis comment di Python, kita gunakan '#' (sama seperti R, dan beberapa bahasa lain). Untuk penulisan multi-line comment, kita bisa menggunakan '''"
   ]
  },
  {
   "cell_type": "markdown",
   "id": "starting-prediction",
   "metadata": {},
   "source": [
    "#ini adalah adalah comment\n",
    "\n",
    "#ini adalah comment\n",
    "\n",
    "#ini adalah comment\n",
    "\n",
    "'''\n",
    "Ini adalah contoh multi-line comment\n",
    "yang tidak akan dieksekusi oleh python\n",
    "'''"
   ]
  },
  {
   "cell_type": "markdown",
   "id": "synthetic-chemistry",
   "metadata": {},
   "source": [
    "### Revisit 'R'\n",
    "\n",
    "Dalam R, kita masih mengingat konsep 6 tipe data yang menjadi fondasi dari seluruh data di R, atau yang disebut 6 atomic class (character, int, double, logical (boolean), complex, dan raw).\n",
    "Dalam python, tipe data sendiri dibagi dalam 6, yaitu :\n",
    "- None\n",
    "- Numeric (dibagi lagi dalam sub tipe integer dan float)\n",
    "- Boolean\n",
    "- Sequence (sub-list : string/str, list, tuple)\n",
    "- set\n",
    "- Map (dictionary/dict)"
   ]
  },
  {
   "cell_type": "markdown",
   "id": "crazy-velvet",
   "metadata": {},
   "source": [
    "### Penjelasan masing-masing tipe data\n",
    "\n",
    "1. None ---> hanya berisi satu value (*none*)\n",
    "2. Numeric :\n",
    "        a. integer (int) : tipe data untuk bilangan bulat; exp = 20,10,-21,-53,...\n",
    "        b. float (flt) : tipe data untuk bilangan dengan desimal di belakangnya; exp = 20.341, 34.6522\n",
    "3. Boolean --> bool, berisi 2 nilai TRUE dan FALSE\n",
    "4. Sequence :\n",
    "        a. string (str) : merupakan jenis tipe data teks yang ditandai dengan '..' atau \"..\"\n",
    "        b. list : tipe data yang berisi angka, atau huruf dengan tanda elemen tsb diapit oleh [...] dan dipisah koma. Sifat dari list adalah **ordered, and changable**\n",
    "        c. tuple : tipe data yang berisi multiple data type, diapit (...). Tuple memiliki urutan yang pasti, dan tidak bisa diubah (ditambah, dikurangi, dsg); dengan kata lain, tuple, **ordered dan unchangable**\n",
    "        d. Set : tipe data yang berisi angka dan huruf (bisa berbagai tipe data), tidak dapat diubah, dan hanya menampung nilai yang unik; sehingga tidak memiliki data yang redundan. Set ditandai dengan diapit oleh {...}. set bersifat **unordered dan unchangable**\n",
    "        "
   ]
  },
  {
   "cell_type": "markdown",
   "id": "coordinate-reflection",
   "metadata": {},
   "source": [
    "### Menjalankan library di python\n",
    "\n",
    "cukup ketik :\n",
    "\n",
    "import nama_library\n",
    "atau\n",
    "import nama_libarary as library_inisial"
   ]
  },
  {
   "cell_type": "code",
   "execution_count": null,
   "id": "controlled-somalia",
   "metadata": {},
   "outputs": [],
   "source": []
  }
 ],
 "metadata": {
  "kernelspec": {
   "display_name": "Python 3",
   "language": "python",
   "name": "python3"
  },
  "language_info": {
   "codemirror_mode": {
    "name": "ipython",
    "version": 3
   },
   "file_extension": ".py",
   "mimetype": "text/x-python",
   "name": "python",
   "nbconvert_exporter": "python",
   "pygments_lexer": "ipython3",
   "version": "3.9.0"
  }
 },
 "nbformat": 4,
 "nbformat_minor": 5
}
