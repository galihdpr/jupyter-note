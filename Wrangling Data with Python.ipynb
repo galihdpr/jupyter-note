{
 "cells": [
  {
   "cell_type": "markdown",
   "id": "verified-tampa",
   "metadata": {},
   "source": [
    "# Wrangling Data With Python"
   ]
  },
  {
   "cell_type": "markdown",
   "id": "enormous-judgment",
   "metadata": {},
   "source": [
    "Wrangling adalah proses transformasi data mata menjadi data yang siap dianalisa. Pandas adalah salah satu tool dalam python yang digunakan untuk proses wrangling. Fitur dasar yang dijelaskan di sini adalah bagaimana pandas bisa membaca file ekternal"
   ]
  },
  {
   "cell_type": "code",
   "execution_count": 4,
   "id": "delayed-scottish",
   "metadata": {},
   "outputs": [
    {
     "name": "stdout",
     "output_type": "stream",
     "text": [
      "   CustomerID   Genre  Age  Annual Income (k$)  Spending Score (1-100)\n",
      "0           1    Male   19                  15                      39\n",
      "1           2    Male   21                  15                      81\n",
      "2           3  Female   20                  16                       6\n",
      "3           4  Female   23                  16                      77\n",
      "4           5  Female   31                  17                      40\n"
     ]
    }
   ],
   "source": [
    "#cara import data csv\n",
    "import pandas as pd\n",
    "csv_data = pd.read_csv(\"https://storage.googleapis.com/dqlab-dataset/shopping_data.csv\")\n",
    "#cara print sebagian data\n",
    "print(csv_data.head())"
   ]
  },
  {
   "cell_type": "code",
   "execution_count": 17,
   "id": "applied-neighbor",
   "metadata": {},
   "outputs": [
    {
     "name": "stdout",
     "output_type": "stream",
     "text": [
      "CustomerID                     3\n",
      "Genre                     Female\n",
      "Age                           20\n",
      "Annual Income (k$)            16\n",
      "Spending Score (1-100)         6\n",
      "Name: 2, dtype: object\n",
      "Index(['CustomerID', 'Genre', 'Age', 'Annual Income (k$)',\n",
      "       'Spending Score (1-100)'],\n",
      "      dtype='object')\n",
      "0      19\n",
      "1      21\n",
      "2      20\n",
      "3      23\n",
      "4      31\n",
      "       ..\n",
      "195    35\n",
      "196    45\n",
      "197    32\n",
      "198    32\n",
      "199    30\n",
      "Name: Age, Length: 200, dtype: int64\n",
      "0        1\n",
      "1        2\n",
      "2        3\n",
      "3        4\n",
      "4        5\n",
      "      ... \n",
      "195    196\n",
      "196    197\n",
      "197    198\n",
      "198    199\n",
      "199    200\n",
      "Name: CustomerID, Length: 200, dtype: int64\n",
      "0       15\n",
      "1       15\n",
      "2       16\n",
      "3       16\n",
      "4       17\n",
      "      ... \n",
      "195    120\n",
      "196    126\n",
      "197    126\n",
      "198    137\n",
      "199    137\n",
      "Name: Annual Income (k$), Length: 200, dtype: int64\n",
      "35\n"
     ]
    }
   ],
   "source": [
    "#membaca data secara baris maupun kolom\n",
    "#sama seperti R, kita bisa memanggil data tertentu berdasarkan kolom maupun baris dengan pandas\n",
    "\n",
    "#contoh memanggil data secara baris\n",
    "print(csv_data.iloc[2])\n",
    "#output akan menghasilkan data pada baris ke-3 (ingat: di python, dan hampir seluruh bahasa lain, 1 dimulai dari index 0)\n",
    "\n",
    "#memanggil nama kolom data\n",
    "print(csv_data.columns)\n",
    "#sekarang kita ada 5 variabel dalam csv_data. Kita bisa memanggil data perkolom dengan csv_data['nama_variabel']\n",
    "print(csv_data['Age'])\n",
    "print(csv_data['CustomerID'])\n",
    "print(csv_data['Annual Income (k$)'])\n",
    "\n",
    "#kita juga bisa meretrieve data berdasar kolom dan barisnya\n",
    "print(csv_data['Spending Score (1-100)'].iloc[20])"
   ]
  },
  {
   "cell_type": "code",
   "execution_count": 19,
   "id": "breeding-burning",
   "metadata": {},
   "outputs": [
    {
     "name": "stdout",
     "output_type": "stream",
     "text": [
      "       CustomerID         Age  Annual Income (k$)  Spending Score (1-100)\n",
      "count  200.000000  200.000000          200.000000              200.000000\n",
      "mean   100.500000   38.850000           60.560000               50.200000\n",
      "std     57.879185   13.969007           26.264721               25.823522\n",
      "min      1.000000   18.000000           15.000000                1.000000\n",
      "25%     50.750000   28.750000           41.500000               34.750000\n",
      "50%    100.500000   36.000000           61.500000               50.000000\n",
      "75%    150.250000   49.000000           78.000000               73.000000\n",
      "max    200.000000   70.000000          137.000000               99.000000\n"
     ]
    }
   ],
   "source": [
    "#Menampilkan summary dari data. Di sini kita menggunakan <nama_objek_data>.describe(exclude='O')\n",
    "#exclude='O' adalah atritbut untuk mengabaikan variabel numerik dalam dataframe. Ini poin perbedaand engan R, yang akan secara \n",
    "#otomatis mentreatment variabel non numerik menjadi factor, dan menghitung summary proporsinya.\n",
    "\n",
    "print(csv_data.describe(exclude=['O']))"
   ]
  },
  {
   "cell_type": "markdown",
   "id": "solved-commodity",
   "metadata": {},
   "source": [
    "## Handling Missing Value\n",
    "\n",
    "Seorang analis, pasti mau tidak mau akan berhadapan dengan data mentah yang tidak lengkap nilainya, atau missing value. Kondisi ini bisa diatasi dengan beberapa cara. jika memungkinkan seorang analis harus bisa mentrace back sumber data untuk mendapatkan alasan kuat penyebab hilangnya data, dan memutuskan apakah akan menghapus observasi berkaitan, atau mencari kembali nilai yang sebenarnya."
   ]
  },
  {
   "cell_type": "code",
   "execution_count": 24,
   "id": "clear-miniature",
   "metadata": {},
   "outputs": [
    {
     "name": "stdout",
     "output_type": "stream",
     "text": [
      "False\n"
     ]
    }
   ],
   "source": [
    "# cara deteksi adanya nilai hilang\n",
    "\n",
    "print(csv_data.isnull().values.any())"
   ]
  },
  {
   "cell_type": "markdown",
   "id": "oriental-trouble",
   "metadata": {},
   "source": [
    "### Teknik Handling Missing Value\n",
    "\n",
    "Secara umum, ada 2 cara untuk menghadapi missing value :\n",
    "1. menghapus data\n",
    "2. imputasi\n",
    "Menghaspus data sendiri dibagi dalam 3 sub kategori teknik :\n",
    "1. Menghapus baris\n",
    "2. Menghapus kolom\n",
    "3. Pairwise\n",
    "Untuk imputasi, ini adalah teknik mengganti value yang hilang dengan nilai estimasi lain yang representatif.\n",
    "Teknik terbagi dalam 2 kondisi utama :\n",
    "\n",
    "1. Time-series problem\n",
    "<ol>\n",
    "    <li>a. Data tanpa trend dan pattern musiman --> Mean, median, mode, random</li>\n",
    "    <li>b. Data dengan trend, namun tanpa pattern musiman ---> Linear Interpolation</li>\n",
    "    <li>c. Data dengan trend dan pattern musiman ---> Seasonal suggestion + Interpolation</li>\n",
    "</ol>    \n",
    "2. General Problem\n",
    "<ol>  \n",
    "    <li>a. Categorical problem --> menggunakan relasi antar kolom dan interpolation</li>\n",
    "    <li>b. Numerical problem --> mean, median, modus, multiple imputation, dan linear regression</li>\n",
    "</ol>\n",
    "\n",
    "### Imputation dengan mean\n",
    "\n",
    "Seperti yang dijelaskan di bagian atas, kita tahu bahwa teknik imputasi kebanyakan menggunakan angka mean untuk mengestimasi value yang hilang. Karena itu, cara termudah untuk menggambarkan teknik imputasi adalah dengan menggunakan mean sebagai contoh"
   ]
  },
  {
   "cell_type": "code",
   "execution_count": 27,
   "id": "vanilla-needle",
   "metadata": {},
   "outputs": [
    {
     "name": "stdout",
     "output_type": "stream",
     "text": [
      "   CustomerID   Genre   Age  Annual Income (k$)  Spending Score (1-100)\n",
      "0           1    Male  19.0                15.0                    39.0\n",
      "1           2    Male   NaN                15.0                    81.0\n",
      "2           3  Female  20.0                 NaN                     6.0\n",
      "3           4  Female  23.0                16.0                    77.0\n",
      "4           5  Female  31.0                17.0                     NaN\n",
      "5           6  Female  22.0                 NaN                    76.0\n",
      "6           7  Female  35.0                18.0                     6.0\n",
      "7           8  Female  23.0                18.0                    94.0\n",
      "8           9    Male  64.0                19.0                     NaN\n",
      "9          10  Female  30.0                19.0                    72.0\n"
     ]
    }
   ],
   "source": [
    "# Contoh imputasi dengan mean\n",
    "csv_data_miss = pd.read_csv(\"https://storage.googleapis.com/dqlab-dataset/shopping_data_missingvalue.csv\")\n",
    "print(csv_data_miss.head(10))"
   ]
  },
  {
   "cell_type": "code",
   "execution_count": 28,
   "id": "egyptian-listening",
   "metadata": {},
   "outputs": [
    {
     "name": "stdout",
     "output_type": "stream",
     "text": [
      "   CustomerID   Genre        Age  Annual Income (k$)  Spending Score (1-100)\n",
      "0           1    Male  19.000000           15.000000               39.000000\n",
      "1           2    Male  38.939698           15.000000               81.000000\n",
      "2           3  Female  20.000000           61.005051                6.000000\n",
      "3           4  Female  23.000000           16.000000               77.000000\n",
      "4           5  Female  31.000000           17.000000               50.489899\n",
      "5           6  Female  22.000000           61.005051               76.000000\n",
      "6           7  Female  35.000000           18.000000                6.000000\n",
      "7           8  Female  23.000000           18.000000               94.000000\n",
      "8           9    Male  64.000000           19.000000               50.489899\n",
      "9          10  Female  30.000000           19.000000               72.000000\n"
     ]
    }
   ],
   "source": [
    "# Gantikan missing value \n",
    "# kita akan menggunakan <...>.fillna(...)\n",
    "\n",
    "csv_data_miss = csv_data_miss.fillna(csv_data_miss.mean())\n",
    "print(csv_data_miss.head(10))"
   ]
  },
  {
   "cell_type": "markdown",
   "id": "first-startup",
   "metadata": {},
   "source": [
    "### Normalisasi Data\n",
    "\n",
    "Seringkali dalam satu dataset kita menemukan variabel-variabel dengan range nilai yang berbeda. Sebagai contoh : variabel 'age' biasanya memiliki range paling banyak puluhan. Sementara variabel 'income' rangenya bisa mencapai jutaan. Hal ini akan mengganggu beberapa algoritma analisa regresi. Sehingga biasanya dilakukan normalisasi data. \n",
    "\n",
    "Beberapa metode normalisasi :\n",
    "1. Z-Score\n",
    "2. Decimal Scaling\n",
    "3. Softmax -- > bagus untuk outlier\n",
    "4. Sigmoif -- > bagus untuk outlier"
   ]
  }
 ],
 "metadata": {
  "kernelspec": {
   "display_name": "Python 3",
   "language": "python",
   "name": "python3"
  },
  "language_info": {
   "codemirror_mode": {
    "name": "ipython",
    "version": 3
   },
   "file_extension": ".py",
   "mimetype": "text/x-python",
   "name": "python",
   "nbconvert_exporter": "python",
   "pygments_lexer": "ipython3",
   "version": "3.9.0"
  }
 },
 "nbformat": 4,
 "nbformat_minor": 5
}
